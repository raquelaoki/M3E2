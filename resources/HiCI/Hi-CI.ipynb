{
 "cells": [
  {
   "cell_type": "code",
   "execution_count": 1,
   "metadata": {},
   "outputs": [],
   "source": [
    "import torch\n",
    "import torch.nn as nn\n",
    "import torch.nn.functional as F\n",
    "import torch.optim as optim"
   ]
  },
  {
   "cell_type": "code",
   "execution_count": 2,
   "metadata": {},
   "outputs": [],
   "source": [
    "from torch.utils.data import DataLoader\n",
    "from torch.utils.data.dataset import Dataset"
   ]
  },
  {
   "cell_type": "code",
   "execution_count": 3,
   "metadata": {},
   "outputs": [],
   "source": [
    "import numpy as np\n",
    "import pandas as pd\n",
    "import matplotlib.pyplot as plt"
   ]
  },
  {
   "cell_type": "code",
   "execution_count": 4,
   "metadata": {},
   "outputs": [],
   "source": [
    "from sklearn.model_selection import train_test_split\n",
    "from sklearn.linear_model import LogisticRegression\n",
    "from sklearn.metrics import confusion_matrix, f1_score, precision_score, recall_score, roc_curve"
   ]
  },
  {
   "cell_type": "code",
   "execution_count": 5,
   "metadata": {},
   "outputs": [],
   "source": [
    "from CompBioAndSimulated_Datasets.simulated_data_multicause import copula_simulated_data, gwas_simulated_data"
   ]
  },
  {
   "cell_type": "code",
   "execution_count": 6,
   "metadata": {},
   "outputs": [],
   "source": [
    "SEED = 10"
   ]
  },
  {
   "cell_type": "code",
   "execution_count": 7,
   "metadata": {},
   "outputs": [
    {
     "name": "stdout",
     "output_type": "stream",
     "text": [
      "GWAS simulated data initialized!\n",
      "... Treatments:  10 [0.0006, 0.0007, 0.0016, 0.0007, 0.0023, 0.0007, 0.0009, 0.0013, 0.0005, 0.0003]\n",
      "... Confounders:  90\n",
      "... Target (y) : 0.4469\n",
      "... Sample Size: 10000\n",
      " Data Simulation Done!\n"
     ]
    }
   ],
   "source": [
    "sdata_gwas = gwas_simulated_data()\n",
    "X, y, y01, treatment_columns, treatment_effects, group  = sdata_gwas.generate_samples()"
   ]
  },
  {
   "cell_type": "code",
   "execution_count": 8,
   "metadata": {},
   "outputs": [],
   "source": [
    "idx_1 = np.where(np.sum(X.values[:, treatment_columns], axis=1) == 1)[0]"
   ]
  },
  {
   "cell_type": "code",
   "execution_count": 9,
   "metadata": {},
   "outputs": [],
   "source": [
    "X = X.iloc[idx_1]\n",
    "y = y[:, idx_1]\n",
    "y01 = y01[idx_1]"
   ]
  },
  {
   "cell_type": "code",
   "execution_count": 10,
   "metadata": {},
   "outputs": [
    {
     "name": "stdout",
     "output_type": "stream",
     "text": [
      "causal_0:  280\n",
      "causal_1:  283\n",
      "causal_2:  316\n",
      "causal_3:  373\n",
      "causal_4:  381\n",
      "causal_5:  312\n",
      "causal_6:  261\n",
      "causal_7:  287\n",
      "causal_8:  290\n",
      "causal_9:  378\n"
     ]
    }
   ],
   "source": [
    "for i in range(10):\n",
    "    col = 'causal_' + str(i)\n",
    "    print(col + ': ', X[col].values.sum())"
   ]
  },
  {
   "cell_type": "code",
   "execution_count": 11,
   "metadata": {},
   "outputs": [
    {
     "name": "stdout",
     "output_type": "stream",
     "text": [
      "1380\n"
     ]
    }
   ],
   "source": [
    "print(y01.sum())"
   ]
  },
  {
   "cell_type": "code",
   "execution_count": 12,
   "metadata": {},
   "outputs": [],
   "source": [
    "X_train, X_test, y_train, y_test = train_test_split(X, y01, test_size=0.33, random_state=SEED)"
   ]
  },
  {
   "cell_type": "markdown",
   "metadata": {},
   "source": [
    "# Dataset"
   ]
  },
  {
   "cell_type": "code",
   "execution_count": 13,
   "metadata": {},
   "outputs": [],
   "source": [
    "class CI_data(Dataset):\n",
    "    def __init__(self, causal, noncausal, outcome, dosage=None):\n",
    "        self.causal = causal.astype(np.float32)\n",
    "        self.noncausal = noncausal.astype(np.float32)\n",
    "        self.target = outcome.astype(np.float32)\n",
    "\n",
    "        if dosage is None:\n",
    "            dosage = np.zeros([len(self.target), 1])\n",
    "        self.dosage = dosage.astype(np.float32)\n",
    "\n",
    "    def __getitem__(self, index):\n",
    "        t, c, y, e = self.causal[index], self.noncausal[index], self.target[index], self.dosage[index]\n",
    "        return t, c, y, e\n",
    "\n",
    "    def __len__(self):\n",
    "        return len(self.target)"
   ]
  },
  {
   "cell_type": "markdown",
   "metadata": {},
   "source": [
    "# Model"
   ]
  },
  {
   "cell_type": "code",
   "execution_count": 14,
   "metadata": {},
   "outputs": [],
   "source": [
    "# calculate p(T_k)\n",
    "def cal_prior(causal):\n",
    "    N = causal.shape[0]\n",
    "    prior_list = []\n",
    "    for k in range(causal.shape[1]):\n",
    "        pos_num = len(np.where(causal[:, k] == 1)[0])\n",
    "        prior_k = pos_num / N  # prior_k = p(T_k=1)\n",
    "        prior_list.append(prior_k)\n",
    "\n",
    "    prior = torch.tensor(np.array(prior_list))  # shape = [num_treatment]\n",
    "    return prior  # shape = [num_treatment]\n",
    "\n",
    "\n",
    "# get theta_Tk using logistic regression\n",
    "def fit_theta(encoded, causal):\n",
    "    theta_list = []\n",
    "    for k in range(causal.shape[1]):\n",
    "        lr = LogisticRegression(C=0.001, penalty='l2', solver='lbfgs', tol=1e-4, fit_intercept=False)\n",
    "        x_train = encoded.detach().numpy()  # phi(x_n)\n",
    "        y_train = causal[:, k].detach().numpy()  # binary treatment 0/1\n",
    "        lr.fit(x_train, y_train)\n",
    "        theta_k = lr.coef_\n",
    "        theta_list.append(torch.tensor(theta_k.astype(np.float32)))\n",
    "    return theta_list\n",
    "\n",
    "\n",
    "# cross-entropy loss between P(T_K) and P(T_K|Phi)\n",
    "class L_ce(nn.Module):\n",
    "    def __init__(self):\n",
    "        super(L_ce, self).__init__()\n",
    "\n",
    "    def forward(self, encoded, causal, prior):\n",
    "        # binary treatment\n",
    "        # prior.shape = [num_treatment]\n",
    "        # theta_list = list of theta_Tk\n",
    "        \n",
    "        theta_list = fit_theta(encoded, causal)\n",
    "\n",
    "        batch_size = encoded.shape[0]\n",
    "        num_treatment = prior.shape[0]\n",
    "        \n",
    "        posterior = []\n",
    "        exp_sum = torch.zeros([batch_size])\n",
    "        for k in range(num_treatment):\n",
    "            theta_Tk = theta_list[k]\n",
    "            posterior_k = torch.mm(encoded, torch.transpose(theta_Tk, 0, 1))\n",
    "            posterior_k = nn.Sigmoid()(posterior_k).view(-1)  # [batchsize]\n",
    "            posterior.append(posterior_k)\n",
    "            exp_sum += torch.exp(posterior_k)\n",
    "        \n",
    "        ce = torch.zeros([batch_size])\n",
    "        for k in range(num_treatment):\n",
    "            prior_k = prior[k].repeat(batch_size)  # [batchsize]\n",
    "            posterior_k = posterior[k] # [batchsize]\n",
    "            ce += -(prior_k * posterior_k - prior_k * torch.log(exp_sum))\n",
    "\n",
    "        return torch.mean(ce)"
   ]
  },
  {
   "cell_type": "code",
   "execution_count": 15,
   "metadata": {},
   "outputs": [],
   "source": [
    "# mean-squared loss | reconstruction loss between ori_x and rec_x\n",
    "class L_ae(nn.Module):\n",
    "    def __init__(self):\n",
    "        super(L_ae, self).__init__()\n",
    "        \n",
    "    def forward(self, ori_x, rec_x):\n",
    "        criterion = torch.nn.MSELoss(reduction='mean')\n",
    "        return criterion(ori_x, rec_x)"
   ]
  },
  {
   "cell_type": "code",
   "execution_count": 16,
   "metadata": {},
   "outputs": [],
   "source": [
    "# regularizer term\n",
    "class L_21(nn.Module):\n",
    "    def __init__(self):\n",
    "        super(L_21, self).__init__()\n",
    "        \n",
    "    def forward(self, phi_x, t):\n",
    "        L = phi_x.shape[1]\n",
    "        K = t.shape[1]\n",
    "        mu = []\n",
    "        \n",
    "        # ==== compute matrix M_D ====\n",
    "\n",
    "        # ---- sol2: ignore the missing treatments ----\n",
    "        valid_K = 0\n",
    "        for i in range(K):\n",
    "            phi_i = phi_x[t[:, i] == 1]\n",
    "            if phi_i.shape[0] > 0:\n",
    "                mu_i = torch.mean(phi_i, dim=0)\n",
    "                mu.append(mu_i)\n",
    "                valid_K = valid_K + 1\n",
    "\n",
    "        columns = []\n",
    "        for i in range(valid_K):\n",
    "            for j in range(valid_K):\n",
    "                if (i == j):\n",
    "                    continue\n",
    "                col = (mu[i] - mu[j]) / (L * valid_K * (valid_K - 1))\n",
    "                columns.append(col)\n",
    "                \n",
    "        M_D = torch.cat(columns).reshape(valid_K * (valid_K - 1), L)\n",
    "        return torch.sum(torch.sqrt(torch.sum(torch.pow(M_D, 2), dim=1))) "
   ]
  },
  {
   "cell_type": "code",
   "execution_count": 17,
   "metadata": {},
   "outputs": [],
   "source": [
    "# prediction loss | root mean square error\n",
    "class L_RMSE(nn.Module):\n",
    "    def __init__(self):\n",
    "        super(L_RMSE, self).__init__()\n",
    "\n",
    "    def forward(self, pred, truth):\n",
    "        return torch.sqrt(torch.mean(torch.pow(pred - truth, 2)))"
   ]
  },
  {
   "cell_type": "code",
   "execution_count": 18,
   "metadata": {},
   "outputs": [],
   "source": [
    "# prediction loss | cross entropy error\n",
    "class L_BIN(nn.Module):\n",
    "    def __init__(self):\n",
    "        super(L_BIN, self).__init__()\n",
    "\n",
    "    def forward(self, pred, truth):\n",
    "        criterion = torch.nn.BCEWithLogitsLoss(reduction='mean')\n",
    "        # criterion = torch.nn.BCELoss(reduction='mean')\n",
    "        return criterion(pred, truth)"
   ]
  },
  {
   "cell_type": "code",
   "execution_count": 19,
   "metadata": {},
   "outputs": [],
   "source": [
    "class total_loss_con(nn.Module):\n",
    "    def __init__(self, beta, gamma, lamda):\n",
    "        super(total_loss_con, self).__init__()\n",
    "        self.b = beta\n",
    "        self.g = gamma\n",
    "        self.l = lamda\n",
    "    \n",
    "    def forward(self, t, prior, ori_x, phi_x, rec_x, pred, truth):\n",
    "        c1 = L_ce()\n",
    "        loss_ce = c1(phi_x, t, prior)\n",
    "        c2 = L_ae()\n",
    "        loss_ae = c2(ori_x, rec_x)\n",
    "        c3 = L_21()\n",
    "        loss_reg = c3(phi_x, t)\n",
    "        c4 = L_RMSE()\n",
    "        loss_rmse = c4(pred, truth)\n",
    "        \n",
    "        total_loss = loss_ce + self.b * loss_ae + self.g * loss_reg + self.l * loss_rmse\n",
    "        \n",
    "        return loss_ce, loss_ae, loss_reg, loss_rmse, total_loss"
   ]
  },
  {
   "cell_type": "code",
   "execution_count": 20,
   "metadata": {},
   "outputs": [],
   "source": [
    "class total_loss_bin(nn.Module):\n",
    "    def __init__(self, beta, gamma, lamda):\n",
    "        super(total_loss_bin, self).__init__()\n",
    "        self.b = beta\n",
    "        self.g = gamma\n",
    "        self.l = lamda\n",
    "    \n",
    "    def forward(self, t, prior, ori_x, phi_x, rec_x, pred, truth):\n",
    "        c1 = L_ce()\n",
    "        loss_ce = c1(phi_x, t, prior)\n",
    "        c2 = L_ae()\n",
    "        loss_ae = c2(ori_x, rec_x)\n",
    "        c3 = L_21()\n",
    "        loss_reg = c3(phi_x, t)\n",
    "        c4 = L_BIN()\n",
    "        loss_bin = c4(pred, truth)\n",
    "        \n",
    "        total_loss = loss_ce + self.b * loss_ae + self.g * loss_reg + self.l * loss_bin\n",
    "        \n",
    "        return loss_ce, loss_ae, loss_reg, loss_bin, total_loss"
   ]
  },
  {
   "cell_type": "code",
   "execution_count": 21,
   "metadata": {},
   "outputs": [],
   "source": [
    "class autoencoder(nn.Module):\n",
    "    def __init__(self, num_covs, num_feats,\n",
    "                 enc_layers, enc_nodes, dec_layers, dec_nodes):\n",
    "        assert len(enc_nodes) + 1 == enc_layers\n",
    "        assert len(dec_nodes) + 1 == dec_layers\n",
    "\n",
    "        super(autoencoder, self).__init__()\n",
    "\n",
    "        # encoder\n",
    "        enc_nodes = [num_covs] + enc_nodes + [num_feats]\n",
    "        enc_modules = []\n",
    "        for i in range(enc_layers):\n",
    "            enc_modules.append(nn.Linear(enc_nodes[i], enc_nodes[i + 1]))\n",
    "            enc_modules.append(nn.PReLU())\n",
    "        self.encoder = nn.Sequential(*enc_modules)\n",
    "\n",
    "        # decoder\n",
    "        dec_nodes = [num_feats] + dec_nodes + [num_covs]\n",
    "        dec_modules = []\n",
    "        for i in range(enc_layers):\n",
    "            dec_modules.append(nn.Linear(dec_nodes[i], dec_nodes[i + 1]))\n",
    "            dec_modules.append(nn.PReLU())\n",
    "        self.decoder = nn.Sequential(*dec_modules)\n",
    "\n",
    "    def forward(self, x):\n",
    "        encoded = self.encoder(x)\n",
    "        reconstructed = self.decoder(encoded)\n",
    "        return encoded, reconstructed"
   ]
  },
  {
   "cell_type": "code",
   "execution_count": 22,
   "metadata": {},
   "outputs": [],
   "source": [
    "class sub_net(nn.Module):\n",
    "    def __init__(self, num_feats, num_treats, hidden_layers=3, hidden_nodes=100):\n",
    "        super(sub_net, self).__init__()\n",
    "        self.hidden_layers = hidden_layers\n",
    "        self.linear_in = nn.Linear(num_feats + num_treats, hidden_nodes)\n",
    "        self.linear_hidden = nn.Linear(hidden_nodes, hidden_nodes)\n",
    "        self.linear_out = nn.Linear(hidden_nodes, 1)\n",
    "\n",
    "    def forward(self, x):\n",
    "        x = F.relu(self.linear_in(x))\n",
    "        for i in range(self.hidden_layers):\n",
    "            x = F.relu(self.linear_hidden(x))\n",
    "        x = self.linear_out(x)\n",
    "        return x"
   ]
  },
  {
   "cell_type": "code",
   "execution_count": 23,
   "metadata": {},
   "outputs": [],
   "source": [
    "class HiCI_DNN(nn.Module):\n",
    "    def __init__(self, num_treatments, num_covariates, num_features, num_dosages,\n",
    "                 encoder_layers, decoder_layers, outcome_layers, \n",
    "                 encoder_nodes, decoder_nodes, outcome_nodes):\n",
    "        super(HiCI_DNN, self).__init__()\n",
    "        self.K = num_treatments\n",
    "        self.P = num_covariates\n",
    "        self.L = num_features\n",
    "        self.E = num_dosages\n",
    "\n",
    "        self.decorrelation_net = autoencoder(num_covs=self.P, num_feats=self.L,\n",
    "                                             enc_layers=encoder_layers, dec_layers=decoder_layers,\n",
    "                                             enc_nodes=encoder_nodes, dec_nodes=decoder_nodes)\n",
    "\n",
    "        self.regression_net = []\n",
    "        for i in range(self.E):\n",
    "            self.regression_net.append(sub_net(num_feats=self.L, num_treats=self.K,\n",
    "                                               hidden_layers=outcome_layers, hidden_nodes=outcome_nodes))\n",
    "\n",
    "    def forward(self, treatments, covariates, dosages):\n",
    "        encoded, decoded = self.decorrelation_net(covariates)\n",
    "        embedding = torch.cat([encoded, treatments], dim=1)\n",
    "        pred_y = torch.zeros([embedding.shape[0], 1])\n",
    "        for e in range(self.E):\n",
    "            output_e = self.regression_net[e](embedding)\n",
    "            pred_y += (dosages == e) * output_e\n",
    "        return encoded, decoded, pred_y"
   ]
  },
  {
   "cell_type": "markdown",
   "metadata": {},
   "source": [
    "# train"
   ]
  },
  {
   "cell_type": "code",
   "execution_count": 24,
   "metadata": {},
   "outputs": [],
   "source": [
    "class HiCI():\n",
    "    def __init__(self, X_train, X_test, y_train, y_test, treatments_columns, \n",
    "                 dosage_level=1, dosage_train=None, dosage_test=None):\n",
    "        super(HiCI, self).__init__()\n",
    "        self.X_train = X_train.values\n",
    "        self.X_test = X_test.values\n",
    "        self.y_train = y_train.reshape(-1, 1)\n",
    "        self.y_test = y_test.reshape(-1, 1)\n",
    "        self.treatments_columns = treatments_columns\n",
    "        self.covariates_columns = [col for col in list(range(X_train.shape[1])) if col not in treatments_columns]\n",
    "        self.dosage_level = dosage_level\n",
    "        self.dosage_train = dosage_train\n",
    "        self.dosage_test = dosage_test\n",
    "        self.model = None\n",
    "        self.ate = None\n",
    "        self.f1_test = None\n",
    "        self.test_output_list = []\n",
    "        self.train_output_list = []\n",
    "        self.all_output_list = []\n",
    "        print('Running HiCI')\n",
    "\n",
    "    def fit(self, type_target, batch_size=128, total_epochs=100, lr=0.001, lr_decay=0.6, ite_per_decay=1, weight_decay=0.0,\n",
    "            encoder_layers=4, decoder_layers=4, outcome_layers=3, encoder_nodes=[64, 32, 16], decoder_nodes=[16, 32, 64], \n",
    "            encoded_dim=8, outcome_nodes=100, l2_reg=0.01, val_split=0.2, num_workers=0,\n",
    "            print_=True, plot_loss_=True):\n",
    "        \n",
    "        # create train_val dataset and test dataset\n",
    "        train_val_set = CI_data(self.X_train[:, self.treatments_columns], self.X_train[:, self.covariates_columns],\n",
    "                                self.y_train, self.dosage_train)\n",
    "        test_set = CI_data(self.X_test[:, self.treatments_columns], self.X_test[:, self.covariates_columns],\n",
    "                           self.y_test, self.dosage_test)\n",
    "        # split the train_val into train set and val set\n",
    "        val_size = int(train_val_set.__len__() * val_split)\n",
    "        train_size = train_val_set.__len__() - val_size\n",
    "        train_set, val_set = torch.utils.data.random_split(train_val_set, [train_size, val_size])\n",
    "        \n",
    "        # data loaders\n",
    "        train_loader = DataLoader(train_set, batch_size=batch_size, shuffle=False, num_workers=num_workers)\n",
    "        val_loader = DataLoader(val_set, batch_size=batch_size, shuffle=False, num_workers=num_workers)\n",
    "\n",
    "        # train\n",
    "        model = HiCI_DNN(num_treatments=len(self.treatments_columns), \n",
    "                         num_covariates=len(self.covariates_columns), \n",
    "                         num_features=encoded_dim,\n",
    "                         num_dosages=self.dosage_level,\n",
    "                         encoder_layers=encoder_layers, decoder_layers=decoder_layers, outcome_layers=outcome_layers,\n",
    "                         encoder_nodes=encoder_nodes, decoder_nodes=decoder_nodes, outcome_nodes=outcome_nodes)\n",
    "        \n",
    "        if type_target == 'binary':\n",
    "            criterion = total_loss_bin(beta=1, gamma=1, lamda=1)\n",
    "        else:\n",
    "            criterion = total_loss_con(beta=1, gamma=1, lamda=1)\n",
    "        \n",
    "        optimizer = optim.Adam(model.parameters(), lr=lr, weight_decay=weight_decay)\n",
    "        # optimizer = optim.SGD(model.parameters(), lr=lr, momentum=0.9, weight_decay=5e-4)\n",
    "        scheduler = optim.lr_scheduler.ReduceLROnPlateau(optimizer, mode='min', factor=0.1, patience=10, min_lr=1e-05,\n",
    "                                                         eps=1e-05)\n",
    "        # early_stopping = EarlyStopping(patience=patience, verbose=True)\n",
    "\n",
    "        train_loss_values = []\n",
    "        val_loss_values = []\n",
    "        \n",
    "        train_ce_loss = []\n",
    "        train_ae_loss = []\n",
    "        train_reg_loss = []\n",
    "        train_pred_loss = []\n",
    "        \n",
    "        prior = cal_prior(self.X_train[:, self.treatments_columns])\n",
    "        for epoch in range(total_epochs):\n",
    "            # ===== training =====\n",
    "            train_running_loss = 0.0\n",
    "            train_running_loss_ce = 0.0\n",
    "            train_running_loss_ae = 0.0\n",
    "            train_running_loss_reg = 0.0\n",
    "            train_running_loss_pred = 0.0\n",
    "            \n",
    "            model.train()\n",
    "            for i, data in enumerate(train_loader, 0):\n",
    "                causal, noncausal, true_y, dosage = data\n",
    "                \n",
    "                optimizer.zero_grad()\n",
    "                encoded, decoded, pred_y = model(causal, noncausal, dosage)\n",
    "                \n",
    "\n",
    "                try:\n",
    "                    l_ce, l_ae, l_reg, l_pred, loss = criterion(t=causal, prior=prior,\n",
    "                                                                ori_x=noncausal, phi_x=encoded, rec_x=decoded,\n",
    "                                                                pred=pred_y, truth=true_y)\n",
    "                except ValueError as err:\n",
    "                    # print(\"ValueError: {0}, skip this batch\".format(err))\n",
    "                    continue\n",
    "\n",
    "                loss.backward()\n",
    "                optimizer.step()\n",
    "\n",
    "                train_running_loss += loss.item()\n",
    "\n",
    "                train_running_loss_ce += l_ce.item()\n",
    "                train_running_loss_ae += l_ae.item()\n",
    "                train_running_loss_reg += l_reg.item()\n",
    "                train_running_loss_pred += l_pred.item()\n",
    "                    \n",
    "\n",
    "            scheduler.step(train_running_loss)\n",
    "            train_loss_values.append(train_running_loss / (i + 1))\n",
    "            \n",
    "            train_ce_loss.append(train_running_loss_ce / (i + 1))\n",
    "            train_ae_loss.append(train_running_loss_ae / (i + 1))\n",
    "            train_reg_loss.append(train_running_loss_reg / (i + 1))\n",
    "            train_pred_loss.append(train_running_loss_pred / (i + 1))\n",
    "\n",
    "            # ===== validation =====\n",
    "            val_running_loss = 0.0\n",
    "            model.eval()\n",
    "            for i, data in enumerate(val_loader, 0):\n",
    "                causal, noncausal, true_y, dosage = data\n",
    "\n",
    "                encoded, decoded, pred_y = model(causal, noncausal, dosage)\n",
    "                \n",
    "                try:\n",
    "                    l_ce, l_ae, l_reg, l_pred, loss = criterion(t=causal, prior=prior,\n",
    "                                                                ori_x=noncausal, phi_x=encoded, rec_x=decoded,\n",
    "                                                                pred=pred_y, truth=true_y)\n",
    "                except ValueError as err:\n",
    "                    # print(\"ValueError: {0}, skip this batch\".format(err))\n",
    "                    continue\n",
    "                \n",
    "                val_running_loss += loss.item()\n",
    "                \n",
    "            val_loss_values.append(val_running_loss / (i + 1))\n",
    "\n",
    "        print(\"Finishing Training\")\n",
    "        \n",
    "        if plot_loss_:\n",
    "            plt.figure(figsize=(12, 16))\n",
    "            plt.subplot(3, 2, 1)\n",
    "            plt.plot(train_loss_values)\n",
    "            plt.plot(val_loss_values)\n",
    "            plt.legend([\"train\", \"val\"])\n",
    "\n",
    "            plt.subplot(3, 2, 3)\n",
    "            plt.plot(train_ce_loss)\n",
    "            plt.legend([\"CE\"])\n",
    "            plt.subplot(3, 2, 4)\n",
    "            plt.plot(train_ae_loss)\n",
    "            plt.legend([\"AE\"])\n",
    "            plt.subplot(3, 2, 5)\n",
    "            plt.plot(train_reg_loss)\n",
    "            plt.legend([\"REG\"])\n",
    "            plt.subplot(3, 2, 6)\n",
    "            plt.plot(train_pred_loss)\n",
    "            plt.legend([\"PRED\"])\n",
    "                    \n",
    "        # test\n",
    "        model.eval()\n",
    "        # on training set\n",
    "        train_output = []\n",
    "        train_val_loader = DataLoader(train_val_set, batch_size=batch_size, \n",
    "                                      shuffle=False, num_workers=num_workers)\n",
    "        with torch.no_grad():\n",
    "            for i, data in enumerate(train_val_loader, 0):\n",
    "                causal, noncausal, true_y, dosage = data\n",
    "\n",
    "                encoded, decoded, pred_y = model(causal, noncausal, dosage)\n",
    "                train_output.append(pred_y.numpy())\n",
    "        y_train_pred = np.concatenate(train_output)\n",
    "\n",
    "\n",
    "        # on test set\n",
    "        test_output = []\n",
    "        test_loader = DataLoader(test_set, batch_size=batch_size, \n",
    "                                 shuffle=False, num_workers=num_workers)\n",
    "        with torch.no_grad():\n",
    "            for i, data in enumerate(test_loader, 0):\n",
    "                causal, noncausal, true_y, dosage = data\n",
    "\n",
    "                encoded, decoded, pred_y = model(causal, noncausal, dosage)\n",
    "                test_output.append(pred_y.numpy())\n",
    "        y_test_pred = np.concatenate(test_output)\n",
    "        \n",
    "        self.model = model\n",
    "                            \n",
    "        thhold = self.Find_Optimal_Cutoff(self.y_train, y_train_pred)\n",
    "        y_train_pred01 = [0 if item < thhold else 1 for item in y_train_pred]\n",
    "        y_test_pred01 = [0 if item < thhold else 1 for item in y_test_pred]\n",
    "        if print_:\n",
    "            print('... Evaluation:')\n",
    "            print('... Training set: F1 - ', f1_score(self.y_train, y_train_pred01))\n",
    "            print('...... confusion matrix: ', confusion_matrix(self.y_train, y_train_pred01).ravel())\n",
    "\n",
    "            print('... Testing set: F1 - ', f1_score(self.y_test, y_test_pred01))\n",
    "            print('...... confusion matrix: ', confusion_matrix(self.y_test, y_test_pred01).ravel())\n",
    "\n",
    "    \n",
    "    def cate(self, dataset='all'):\n",
    "        if dataset == 'train':\n",
    "            X = self.X_train\n",
    "            y = self.y_train\n",
    "        if dataset == 'test':\n",
    "            X = self.X_test\n",
    "            y = self.y_test\n",
    "        if dataset == 'all':\n",
    "            X = np.concatenate([self.X_train, self.X_test], axis=0)\n",
    "            y = np.concatenate([self.y_train, self.y_test], axis=0)\n",
    "            \n",
    "        dataset = CI_data(X[:, self.treatments_columns], X[:, self.covariates_columns], y, None)\n",
    "        dataloader = DataLoader(dataset, batch_size=X.shape[0], shuffle=False, num_workers=0)\n",
    "        \n",
    "        model = self.model\n",
    "        outcome = []\n",
    "        with torch.no_grad():\n",
    "            for i, data in enumerate(dataloader, 0):\n",
    "                causal, noncausal, true_y, dosage = data\n",
    "                \n",
    "                encoded, decoded, pred_y = model(causal, noncausal, dosage)\n",
    "                outcome.append(pred_y.numpy())\n",
    "\n",
    "        outcome = np.concatenate(outcome)\n",
    "        \n",
    "        self.cate = []\n",
    "        for i in range(len(self.treatments_columns)):\n",
    "            t_col = self.treatments_columns[i]\n",
    "            \n",
    "            q_t1 = np.mean(outcome[np.where(X[:, t_col] == 1)[0]])\n",
    "            q_t0 = np.mean(outcome[np.where(X[:, t_col] == 0)[0]])\n",
    "                \n",
    "            self.cate.append(q_t1 - q_t0)\n",
    "            \n",
    "        return self.cate\n",
    "    \n",
    "    \n",
    "    def Find_Optimal_Cutoff(self, target, predicted):\n",
    "        \"\"\" Find the optimal probability cutoff point for a classification model related to event rate\n",
    "        Parameters\n",
    "        ----------\n",
    "        target : Matrix with dependent or target data, where rows are observations\n",
    "        predicted : Matrix with predicted data, where rows are observations\n",
    "        Returns\n",
    "        -------\n",
    "        list type, with optimal cutoff value\n",
    "        https://stackoverflow.com/questions/28719067/roc-curve-and-cut-off-point-python\n",
    "        \"\"\"\n",
    "        fpr, tpr, threshold = roc_curve(target, predicted)\n",
    "        i = np.arange(len(tpr))\n",
    "        roc = pd.DataFrame({'tf': pd.Series(tpr - (1 - fpr), index=i), 'threshold': pd.Series(threshold, index=i)})\n",
    "        roc_t = roc.iloc[(roc.tf - 0).abs().argsort()[:1]]\n",
    "        return list(roc_t['threshold'])"
   ]
  },
  {
   "cell_type": "code",
   "execution_count": 25,
   "metadata": {},
   "outputs": [
    {
     "name": "stdout",
     "output_type": "stream",
     "text": [
      "Running HiCI\n"
     ]
    }
   ],
   "source": [
    "model_HiCI = HiCI(X_train, X_test, y_train, y_test, treatment_columns)"
   ]
  },
  {
   "cell_type": "code",
   "execution_count": 26,
   "metadata": {},
   "outputs": [
    {
     "name": "stdout",
     "output_type": "stream",
     "text": [
      "Finishing Training\n",
      "... Evaluation:\n",
      "... Training set: F1 -  0.4359861591695502\n",
      "...... confusion matrix:  [535 625 516 441]\n",
      "... Testing set: F1 -  0.4129979035639413\n",
      "...... confusion matrix:  [287 334 226 197]\n"
     ]
    },
    {
     "data": {
      "image/png": "[encoded data removed]",
      "text/plain": [
       "<Figure size 864x1152 with 5 Axes>"
      ]
     },
     "metadata": {
      "needs_background": "light"
     },
     "output_type": "display_data"
    }
   ],
   "source": [
    "model_HiCI.fit(type_target='binary')"
   ]
  },
  {
   "cell_type": "code",
   "execution_count": 27,
   "metadata": {},
   "outputs": [],
   "source": [
    "estimate_effect = model_HiCI.cate()"
   ]
  },
  {
   "cell_type": "code",
   "execution_count": 28,
   "metadata": {},
   "outputs": [],
   "source": [
    "true_effect = treatment_effects[treatment_columns]"
   ]
  },
  {
   "cell_type": "code",
   "execution_count": 29,
   "metadata": {},
   "outputs": [
    {
     "data": {
      "text/plain": [
       "0.1748375350396937"
      ]
     },
     "execution_count": 29,
     "metadata": {},
     "output_type": "execute_result"
    }
   ],
   "source": [
    "abs(true_effect - estimate_effect).mean()"
   ]
  },
  {
   "cell_type": "code",
   "execution_count": 30,
   "metadata": {},
   "outputs": [
    {
     "data": {
      "text/plain": [
       "[-0.0011884328,\n",
       " -0.0068733916,\n",
       " -0.0030568033,\n",
       " 0.0010914011,\n",
       " 0.0006927606,\n",
       " -0.0006460715,\n",
       " 0.0068086926,\n",
       " 0.0026573678,\n",
       " 0.0014488483,\n",
       " -0.00051439553]"
      ]
     },
     "execution_count": 30,
     "metadata": {},
     "output_type": "execute_result"
    }
   ],
   "source": [
    "estimate_effect"
   ]
  },
  {
   "cell_type": "code",
   "execution_count": 31,
   "metadata": {},
   "outputs": [
    {
     "data": {
      "text/plain": [
       "array([ 0.01264043,  0.12498783, -0.24897723,  0.17339963, -0.10457538,\n",
       "       -0.39614431, -0.16192669,  0.14964379,  0.08306251, -0.28686916])"
      ]
     },
     "execution_count": 31,
     "metadata": {},
     "output_type": "execute_result"
    }
   ],
   "source": [
    "true_effect"
   ]
  },
  {
   "cell_type": "code",
   "execution_count": null,
   "metadata": {},
   "outputs": [],
   "source": []
  }
 ],
 "metadata": {
  "kernelspec": {
   "display_name": "Python 3",
   "language": "python",
   "name": "python3"
  },
  "language_info": {
   "codemirror_mode": {
    "name": "ipython",
    "version": 3
   },
   "file_extension": ".py",
   "mimetype": "text/x-python",
   "name": "python",
   "nbconvert_exporter": "python",
   "pygments_lexer": "ipython3",
   "version": "3.7.6"
  }
 },
 "nbformat": 4,
 "nbformat_minor": 4
}
