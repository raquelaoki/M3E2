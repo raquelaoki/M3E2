{
 "cells": [
  {
   "cell_type": "markdown",
   "id": "official-solid",
   "metadata": {},
   "source": [
    "# Spring 2021\n",
    "\n",
    "## Raquel Aoki\n",
    "\n",
    "Starting the project\n",
    "\n",
    "\n",
    "Data simulation sources: \n",
    "- https://github.com/JiajingZ/CopulaSensitivity\n",
    "- https://github.com/raquelaoki/ParKCa"
   ]
  },
  {
   "cell_type": "code",
   "execution_count": 7,
   "id": "sacred-carry",
   "metadata": {},
   "outputs": [],
   "source": [
    "import sys \n",
    "sys.path.insert(0,'src/')\n",
    "from data_simulation import *"
   ]
  },
  {
   "cell_type": "code",
   "execution_count": 2,
   "id": "hungarian-andrew",
   "metadata": {},
   "outputs": [
    {
     "name": "stdout",
     "output_type": "stream",
     "text": [
      "Outcomes (Y):\n",
      " [0, 0, 0, 0, 0] (binary) or  [  -1.43979215   -8.33416739 -182.1288151   -11.34852134 -190.67555226] (continuous)\n",
      "Treatments: (8000, 4)\n",
      "Confounders: (8000, 10)\n",
      "True effect [0.73661721 0.73661721 1.26338279 0.98389964]\n",
      "True obs effect [[1.01406203 0.63416235 1.3890912  1.02184143]]\n",
      "\n",
      "Binary Nonlinear:\n",
      "B: True treat. obs effect [[ 0.02752294 -0.74311927  0.79449541  0.04275229  0.        ]]\n",
      "\n",
      "Continuous Nonlinear\n",
      "C: True treat. obs effect [[ 0.02752294 -0.74311927  0.79449541  0.04275229]]\n",
      "\n",
      "Equation:\n",
      "g(T)=+3T0-1T1+1T2I(T2>0)+0.7T2I(T2<0)0T3-4T0*T0\n"
     ]
    }
   ],
   "source": [
    "sim_data = copula_simulated_data(s = 10)\n",
    "tr, u, y_continuous, y_binary = sim_data.get_data()\n",
    "effect_true, effect_obs, true_treat_obs_effect_01,true_treat_obs_effect= sim_data.get_true_coefs()\n",
    "sim_data.print_equation()\n"
   ]
  },
  {
   "cell_type": "code",
   "execution_count": 8,
   "id": "impressive-arthur",
   "metadata": {},
   "outputs": [],
   "source": [
    "#change the proportion of true causes\n",
    "gwas_data = gwas_simulated_data(1000, 100, 8, prop_tc = 0.05)\n",
    "y, tc, X = gwas_data.generate_samples()\n"
   ]
  },
  {
   "cell_type": "code",
   "execution_count": 10,
   "id": "medieval-utilization",
   "metadata": {},
   "outputs": [],
   "source": [
    "#todo: clone BART, run for GWAS\n",
    "sys.path.insert(0,'bartpy/') #https://github.com/JakeColtman/bartpy\n",
    "from bartpy.sklearnmodel import SklearnModel\n"
   ]
  },
  {
   "cell_type": "code",
   "execution_count": 13,
   "id": "communist-india",
   "metadata": {},
   "outputs": [
    {
     "data": {
      "text/plain": [
       "SklearnModel(n_burn=100, n_chains=1, n_trees=50)"
      ]
     },
     "execution_count": 13,
     "metadata": {},
     "output_type": "execute_result"
    }
   ],
   "source": [
    "model = SklearnModel(n_chains = 1, n_burn = 100, n_trees = 50) # Use default parameters\n",
    "model.fit(X, y) # Fit the model\n",
    "#predictions = model.predict() # Make predictions on the train set\n",
    "#out_of_sample_predictions = model.predict(X_test) # Make predictions on new data\n"
   ]
  },
  {
   "cell_type": "code",
   "execution_count": 5,
   "id": "settled-incentive",
   "metadata": {},
   "outputs": [],
   "source": [
    "#todo: implement my method"
   ]
  },
  {
   "cell_type": "code",
   "execution_count": null,
   "id": "cutting-policy",
   "metadata": {},
   "outputs": [],
   "source": [
    "import torch\n",
    "import torch.nn as nn\n",
    "import torch.nn.functional as F\n",
    "import numpy as np \n",
    "\n",
    "class MMoETowers(nn.Module):\n",
    "    def __init__(self,data): \n",
    "        "
   ]
  }
 ],
 "metadata": {
  "kernelspec": {
   "display_name": "Python 3",
   "language": "python",
   "name": "python3"
  },
  "language_info": {
   "codemirror_mode": {
    "name": "ipython",
    "version": 3
   },
   "file_extension": ".py",
   "mimetype": "text/x-python",
   "name": "python",
   "nbconvert_exporter": "python",
   "pygments_lexer": "ipython3",
   "version": "3.6.3"
  }
 },
 "nbformat": 4,
 "nbformat_minor": 5
}
