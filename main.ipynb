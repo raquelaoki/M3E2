{
 "cells": [
  {
   "cell_type": "markdown",
   "id": "official-solid",
   "metadata": {},
   "source": [
    "# M3E2\n",
    "\n",
    "## Author: Raquel Aoki\n",
    "\n",
    "Date: Spring 2021\n"
   ]
  },
  {
   "cell_type": "code",
   "execution_count": 1,
   "id": "acoustic-junior",
   "metadata": {},
   "outputs": [
    {
     "name": "stdout",
     "output_type": "stream",
     "text": [
      "Cloning into 'CompBioAndSimulated_Datasets'...\n",
      "remote: Enumerating objects: 54, done.\u001b[K\n",
      "remote: Counting objects: 100% (54/54), done.\u001b[K\n",
      "remote: Compressing objects: 100% (40/40), done.\u001b[K\n",
      "remote: Total 54 (delta 27), reused 35 (delta 14), pack-reused 0\u001b[K\n",
      "Receiving objects: 100% (54/54), 121.87 KiB | 904.00 KiB/s, done.\n",
      "Resolving deltas: 100% (27/27), done.\n"
     ]
    }
   ],
   "source": [
    "!git clone https://github.com/raquelaoki/CompBioAndSimulated_Datasets.git"
   ]
  },
  {
   "cell_type": "code",
   "execution_count": 2,
   "id": "sacred-carry",
   "metadata": {},
   "outputs": [],
   "source": [
    "import sys \n",
    "sys.path.insert(0,'src/')\n",
    "#sys.path.insert(0,'bartpy/') #https://github.com/JakeColtman/bartpy\n",
    "from CompBioAndSimulated_Datasets.simulated_data_multicause import *\n",
    "#from bartpy.sklearnmodel import SklearnModel as bart\n",
    "#from bartpy.features.featureimportance import feature_importance\n",
    "#from bartpy.features.featureselection import SelectNullDistributionThreshold, SelectSplitProportionThreshold\n",
    "#from bartpy.diagnostics.features import *\n",
    "\n",
    "#from bartpy.sklearnmodel import SklearnModel as bart\n",
    "#from bartpy.features.featureselection import SelectNullDistributionThreshold, SelectSplitProportionThreshold\n",
    "#from bartpy.diagnostics.features import *\n",
    "#from bartpy.features.featureimportance import feature_importance\n",
    "#from sklearn.decomposition import PCA\n",
    "#from sklearn.metrics import confusion_matrix,f1_score,roc_curve,roc_auc_score, accuracy_score\n",
    "\n",
    "\n"
   ]
  },
  {
   "cell_type": "code",
   "execution_count": 3,
   "id": "hungarian-andrew",
   "metadata": {},
   "outputs": [
    {
     "name": "stdout",
     "output_type": "stream",
     "text": [
      "Copula simulated data initialized!\n",
      "... Treatments: (10000, 4)\n",
      "... Confounders: (10000, 10)\n",
      "Data Simulation Done!\n"
     ]
    }
   ],
   "source": [
    "#sim_data = copula_simulated_data(s = 10)\n",
    "#tr, u, y_continuous, y_binary = sim_data.get_data()\n",
    "#effect_true, effect_obs, true_treat_obs_effect_01,true_treat_obs_effect= sim_data.get_true_coefs()\n",
    "#sim_data.print_equation()\n",
    "\n",
    "sdata_copula = copula_simulated_data()\n",
    "X, y, y01,treatement_columns ,treatment_effects = sdata_copula.generate_samples()"
   ]
  },
  {
   "cell_type": "code",
   "execution_count": 4,
   "id": "regular-control",
   "metadata": {},
   "outputs": [
    {
     "name": "stdout",
     "output_type": "stream",
     "text": [
      "GWAS simulated data initialized!\n",
      "... Treatments:  10\n",
      "... Confounders:  90\n",
      " Data Simulation Done!\n"
     ]
    }
   ],
   "source": [
    "sdata_gwas = gwas_simulated_data()\n",
    "X, y, y01, treatement_columns, treatment_effects  = sdata_gwas.generate_samples()"
   ]
  },
  {
   "cell_type": "code",
   "execution_count": null,
   "id": "dynamic-communications",
   "metadata": {},
   "outputs": [],
   "source": []
  },
  {
   "cell_type": "code",
   "execution_count": null,
   "id": "impressive-arthur",
   "metadata": {},
   "outputs": [],
   "source": []
  },
  {
   "cell_type": "code",
   "execution_count": null,
   "id": "military-marriage",
   "metadata": {},
   "outputs": [],
   "source": []
  },
  {
   "cell_type": "code",
   "execution_count": null,
   "id": "reduced-escape",
   "metadata": {},
   "outputs": [],
   "source": []
  },
  {
   "cell_type": "code",
   "execution_count": null,
   "id": "moral-actor",
   "metadata": {},
   "outputs": [],
   "source": []
  },
  {
   "cell_type": "code",
   "execution_count": null,
   "id": "according-importance",
   "metadata": {},
   "outputs": [],
   "source": []
  },
  {
   "cell_type": "code",
   "execution_count": 7,
   "id": "institutional-export",
   "metadata": {
    "scrolled": true
   },
   "outputs": [],
   "source": [
    "def Find_Optimal_Cutoff(target, predicted):\n",
    "    \"\"\" Find the optimal probability cutoff point for a classification model related to event rate\n",
    "    Parameters\n",
    "    ----------\n",
    "    target : Matrix with dependent or target data, where rows are observations\n",
    "    predicted : Matrix with predicted data, where rows are observations\n",
    "    Returns\n",
    "    -------\n",
    "    list type, with optimal cutoff value\n",
    "    https://stackoverflow.com/questions/28719067/roc-curve-and-cut-off-point-python\n",
    "    \"\"\"\n",
    "    fpr, tpr, threshold = roc_curve(target, predicted)\n",
    "    i = np.arange(len(tpr))\n",
    "    roc = pd.DataFrame({'tf': pd.Series(tpr - (1 - fpr), index=i), 'threshold': pd.Series(threshold, index=i)})\n",
    "    roc_t = roc.iloc[(roc.tf - 0).abs().argsort()[:1]]\n",
    "    return list(roc_t['threshold'])"
   ]
  },
  {
   "cell_type": "code",
   "execution_count": 101,
   "id": "analyzed-network",
   "metadata": {},
   "outputs": [],
   "source": [
    "\n",
    "#y = y.astype('float')\n",
    "\n",
    "T = X[:,col]\n",
    "X1 = np.delete(X,col,1)\n",
    "\n",
    "pca = PCA(n_components=10)\n",
    "X3 = np.concatenate((T,pca.fit_transform(X1)),axis = 1)\n",
    "\n",
    "model = bart(n_samples=1000, n_burn=10, n_trees=25, store_in_sample_predictions=False, n_jobs=1) # Use default parameters\n",
    "#model.fit(X3, y) # Fit the model\n",
    "#y_ = model.predict(X3)\n",
    "\n",
    "#...Training set: F1 -  0.5418502202643172 25\n",
    "#...... confusion matrix:  [347 232 192 229]"
   ]
  },
  {
   "cell_type": "code",
   "execution_count": 92,
   "id": "addressed-sleeping",
   "metadata": {},
   "outputs": [
    {
     "ename": "NameError",
     "evalue": "name 'y_' is not defined",
     "output_type": "error",
     "traceback": [
      "\u001b[0;31m---------------------------------------------------------------------------\u001b[0m",
      "\u001b[0;31mNameError\u001b[0m                                 Traceback (most recent call last)",
      "\u001b[0;32m<ipython-input-92-76662a2e7e6f>\u001b[0m in \u001b[0;36m<module>\u001b[0;34m\u001b[0m\n\u001b[0;32m----> 1\u001b[0;31m \u001b[0mthhold\u001b[0m \u001b[0;34m=\u001b[0m \u001b[0mFind_Optimal_Cutoff\u001b[0m\u001b[0;34m(\u001b[0m\u001b[0my\u001b[0m\u001b[0;34m,\u001b[0m\u001b[0my_\u001b[0m\u001b[0;34m)\u001b[0m\u001b[0;34m\u001b[0m\u001b[0m\n\u001b[0m\u001b[1;32m      2\u001b[0m \u001b[0my_01\u001b[0m \u001b[0;34m=\u001b[0m \u001b[0;34m[\u001b[0m\u001b[0;36m0\u001b[0m \u001b[0;32mif\u001b[0m \u001b[0mitem\u001b[0m \u001b[0;34m<\u001b[0m \u001b[0mthhold\u001b[0m \u001b[0;32melse\u001b[0m \u001b[0;36m1\u001b[0m \u001b[0;32mfor\u001b[0m \u001b[0mitem\u001b[0m \u001b[0;32min\u001b[0m \u001b[0my_\u001b[0m\u001b[0;34m]\u001b[0m\u001b[0;34m\u001b[0m\u001b[0m\n\u001b[1;32m      3\u001b[0m \u001b[0;34m\u001b[0m\u001b[0m\n\u001b[1;32m      4\u001b[0m \u001b[0;31m#random\u001b[0m\u001b[0;34m\u001b[0m\u001b[0;34m\u001b[0m\u001b[0m\n\u001b[1;32m      5\u001b[0m \u001b[0mprob\u001b[0m \u001b[0;34m=\u001b[0m \u001b[0msum\u001b[0m\u001b[0;34m(\u001b[0m\u001b[0my\u001b[0m\u001b[0;34m)\u001b[0m\u001b[0;34m/\u001b[0m\u001b[0mlen\u001b[0m\u001b[0;34m(\u001b[0m\u001b[0my\u001b[0m\u001b[0;34m)\u001b[0m\u001b[0;34m\u001b[0m\u001b[0m\n",
      "\u001b[0;31mNameError\u001b[0m: name 'y_' is not defined"
     ]
    }
   ],
   "source": [
    "thhold = Find_Optimal_Cutoff(y,y_)\n",
    "y_01 = [0 if item < thhold else 1 for item in y_]\n",
    "\n",
    "#random \n",
    "prob = sum(y)/len(y)\n",
    "y_random = [np.random.binomial(1,prob) for item in y_]\n",
    "\n",
    "print('Original:', np.sum(y)/len(y))\n",
    "\n",
    "print('\\n...Training set: F1 - ',f1_score(y,y_01))\n",
    "print('...Training set: acc - ',accuracy_score(y,y_01))\n",
    "print('...... confusion matrix: \\n',confusion_matrix(y,y_01))\n",
    "\n",
    "print('\\n...Random set: F1 - ',f1_score(y,y_random))\n",
    "print('...Random set: acc - ',accuracy_score(y,y_random))\n",
    "print('...... confusion matrix: \\n',confusion_matrix(y,y_random))"
   ]
  },
  {
   "cell_type": "code",
   "execution_count": null,
   "id": "excess-dollar",
   "metadata": {},
   "outputs": [],
   "source": [
    "#stats.invgamma(1,1).rvs(3, random_state = 99)/max(stats.invgamma(1,1).rvs(3, random_state = 99))"
   ]
  },
  {
   "cell_type": "code",
   "execution_count": null,
   "id": "naughty-harvest",
   "metadata": {},
   "outputs": [],
   "source": [
    "col"
   ]
  },
  {
   "cell_type": "code",
   "execution_count": null,
   "id": "powered-actor",
   "metadata": {},
   "outputs": [],
   "source": []
  },
  {
   "cell_type": "code",
   "execution_count": null,
   "id": "angry-shadow",
   "metadata": {},
   "outputs": [],
   "source": []
  },
  {
   "cell_type": "code",
   "execution_count": null,
   "id": "cutting-policy",
   "metadata": {},
   "outputs": [],
   "source": []
  },
  {
   "cell_type": "code",
   "execution_count": null,
   "id": "hispanic-oxygen",
   "metadata": {},
   "outputs": [],
   "source": [
    "\n"
   ]
  },
  {
   "cell_type": "code",
   "execution_count": 125,
   "id": "several-honor",
   "metadata": {},
   "outputs": [
    {
     "name": "stdout",
     "output_type": "stream",
     "text": [
      "\n",
      "...Training set: F1 -  0.523366097603035\n",
      "...Training set: acc -  0.4472\n",
      "...... confusion matrix: \n",
      " [[1437 4754]\n",
      " [ 774 3035]]\n",
      "\n",
      "...Training set: F1 -  0.4559680182752713\n",
      "...Training set: acc -  0.5237\n",
      "...... confusion matrix: \n",
      " [[3241 2950]\n",
      " [1813 1996]]\n",
      "[-0.050884   -0.03545732 -0.07816463 -0.0301015   0.00991149] \n",
      " [-0.62465696  0.67856941 -0.31181707 -1.00357935  0.47113778]\n",
      "0.3809\n",
      "\n",
      "...Random set: F1 -  0.3821622336906179\n",
      "...Random set: acc -  0.5331\n",
      "...... confusion matrix: \n",
      " [[3887 2304]\n",
      " [2365 1444]]\n"
     ]
    }
   ],
   "source": [
    "from sklearn.linear_model import LogisticRegression\n",
    "T = X[:,col]\n",
    "X1 = np.delete(X,col,1)\n",
    "\n",
    "pca = PCA(n_components=20)\n",
    "X3 = np.concatenate((T,pca.fit_transform(X1)),axis = 1)\n",
    "\n",
    "\n",
    "clf = LogisticRegression(C=1e9, random_state=0, penalty='l2', class_weight = {0:4,1:7}).fit(X3, y)\n",
    "y01lr = clf.predict(X3)\n",
    "\n",
    "y01b = clf.predict_proba(X3)\n",
    "thhold = Find_Optimal_Cutoff(y,y01b[:,1])\n",
    "y01bb = [0 if item < thhold else 1 for item in y01b[:,1]]\n",
    "\n",
    "print('\\n...Training set: F1 - ',f1_score(y,y01lr))\n",
    "print('...Training set: acc - ',accuracy_score(y,y01lr))\n",
    "print('...... confusion matrix: \\n',confusion_matrix(y,y01lr))\n",
    "\n",
    "print('\\n...Training set: F1 - ',f1_score(y,y01bb))\n",
    "print('...Training set: acc - ',accuracy_score(y,y01bb))\n",
    "print('...... confusion matrix: \\n',confusion_matrix(y,y01bb))\n",
    "\n",
    "print(clf.coef_[0][0:len(col)],'\\n',tc[col])\n",
    "print((y.sum()/len(y)))\n",
    "\n",
    "#random \n",
    "prob = sum(y)/len(y)\n",
    "y_random = [np.random.binomial(1,prob) for item in y]\n",
    "print('\\n...Random set: F1 - ',f1_score(y,y_random))\n",
    "print('...Random set: acc - ',accuracy_score(y,y_random))\n",
    "print('...... confusion matrix: \\n',confusion_matrix(y,y_random))"
   ]
  },
  {
   "cell_type": "code",
   "execution_count": null,
   "id": "editorial-europe",
   "metadata": {},
   "outputs": [],
   "source": []
  },
  {
   "cell_type": "code",
   "execution_count": 88,
   "id": "western-domestic",
   "metadata": {},
   "outputs": [
    {
     "data": {
      "text/plain": [
       "array([0, 1, 1])"
      ]
     },
     "execution_count": 88,
     "metadata": {},
     "output_type": "execute_result"
    }
   ],
   "source": [
    "npr.binomial(2,[0.5, 0.5,.5])"
   ]
  },
  {
   "cell_type": "code",
   "execution_count": null,
   "id": "afraid-cologne",
   "metadata": {},
   "outputs": [],
   "source": []
  }
 ],
 "metadata": {
  "kernelspec": {
   "display_name": "Python 3",
   "language": "python",
   "name": "python3"
  },
  "language_info": {
   "codemirror_mode": {
    "name": "ipython",
    "version": 3
   },
   "file_extension": ".py",
   "mimetype": "text/x-python",
   "name": "python",
   "nbconvert_exporter": "python",
   "pygments_lexer": "ipython3",
   "version": "3.6.3"
  }
 },
 "nbformat": 4,
 "nbformat_minor": 5
}
